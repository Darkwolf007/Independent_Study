{
 "cells": [
  {
   "cell_type": "markdown",
   "metadata": {},
   "source": [
    "# Transfer Learning\n",
    "\n",
    "#### Neural Network for Suggestive CAD"
   ]
  },
  {
   "cell_type": "markdown",
   "metadata": {},
   "source": [
    "--------------------------------------------------------------------------------------------------------------------------------"
   ]
  },
  {
   "cell_type": "markdown",
   "metadata": {},
   "source": [
    "    Import packages"
   ]
  },
  {
   "cell_type": "code",
   "execution_count": 36,
   "metadata": {},
   "outputs": [],
   "source": [
    "import numpy as np\n",
    "import collections\n",
    "#from tensorflow.python.framework import dtypes\n",
    "\n",
    "from os import listdir\n",
    "import os\n",
    "from os.path import isfile, join\n",
    "import numpy as np\n",
    "import cv2\n",
    "import scipy as misc\n",
    "\n",
    "import matplotlib.pylab as plt\n",
    "%matplotlib inline\n",
    "\n",
    "from __future__ import division\n",
    "from __future__ import print_function\n",
    "\n",
    "import argparse\n",
    "import sys\n",
    "\n",
    "import glob\n",
    "#import param\n",
    "import time\n",
    "\n",
    "#from ipywidgets import interact, interactive, fixed, interact_manual\n",
    "#import ipywidgets as widgets\n",
    "import IPython.display as display\n",
    "\n",
    "import tensorflow as tf\n",
    "\n",
    "#import pydotplus as pydot\n",
    "#import graphviz\n",
    "\n",
    "\n",
    "\n",
    "# KERAS IMPORTS\n",
    "import keras\n",
    "from keras import models\n",
    "from keras import layers\n",
    "from keras.utils import to_categorical\n",
    "from keras.layers import Dense, Dropout, Activation, Flatten, Conv2D, MaxPooling2D\n",
    "from keras.layers.normalization import BatchNormalization \n",
    "from keras.layers.advanced_activations import LeakyReLU\n",
    "from IPython.display import SVG\n",
    "from keras.utils.vis_utils import model_to_dot\n",
    "from keras.callbacks import History \n",
    "from keras.models import model_from_json\n",
    "\n",
    "#SKLEARN\n",
    "from sklearn.metrics import classification_report"
   ]
  },
  {
   "cell_type": "code",
   "execution_count": 2,
   "metadata": {},
   "outputs": [],
   "source": [
    "###From https://gist.github.com/ambodi/408301bc5bc07bc5afa8748513ab9477#file-dataset-py-L74"
   ]
  },
  {
   "cell_type": "code",
   "execution_count": 3,
   "metadata": {},
   "outputs": [],
   "source": [
    "###Data from  https://www.kaggle.com/c/dogs-vs-cats/data"
   ]
  },
  {
   "cell_type": "markdown",
   "metadata": {},
   "source": [
    "## Saving raw data to npy"
   ]
  },
  {
   "cell_type": "markdown",
   "metadata": {},
   "source": [
    "#### Load data"
   ]
  },
  {
   "cell_type": "code",
   "execution_count": 2,
   "metadata": {},
   "outputs": [],
   "source": [
    "#path to directory\n",
    "path_train = '/data/_train/'\n",
    "path_val = '/data/_val/'\n",
    "\n",
    "#path_train = 'raw_data/train/'\n",
    "#path_val = 'raw_data/val/'\n",
    "\n",
    "img_size= 200\n",
    "\n",
    "#get folder names\n",
    "def directory_scan(path):\n",
    "    dirlist = [ item for item in os.listdir(path) if os.path.isdir(os.path.join(path, item)) ]\n",
    "    return dirlist\n",
    "\n",
    "#build labels and image arrays, resize image to 500*500\n",
    "def read_images_in_folder(dirlist, path):\n",
    "    images=[]\n",
    "    labels = []\n",
    "    count = 0\n",
    "    for i in range(len(dirlist)):\n",
    "        image_stack = []\n",
    "        for img in glob.glob(path+dirlist[i]+'/*jpg'):\n",
    "            count=count+1\n",
    "            labels.append(dirlist[i])\n",
    "            IMG = cv2.imread(img)\n",
    "            #RGB to grey scale\n",
    "            #IMG_2= cv2.cvtColor( IMG, cv2.COLOR_RGB2GRAY )\n",
    "            im_resize = cv2.resize(IMG, (img_size, img_size), 3)\n",
    "            images.append(im_resize)\n",
    "        #np_images = np.array(image_stack)\n",
    "        \n",
    "    return images, labels, count"
   ]
  },
  {
   "cell_type": "code",
   "execution_count": null,
   "metadata": {},
   "outputs": [],
   "source": [
    "start = time.time()\n",
    "\n",
    "if __name__ == '__main__':\n",
    "    dirlist_val = directory_scan(path_val)\n",
    "    images_val,labels_val,count_val= read_images_in_folder(dirlist_val, path_val)\n",
    "\n",
    "if __name__ == '__main__':\n",
    "    dirlist_train = directory_scan(path_train)\n",
    "    images_train,labels_train,count_train = read_images_in_folder(dirlist_val, path_train)\n",
    "    #dirlist_test = directory_scan(path_test)\n",
    "    #images_test,labels_test,count_test = read_images_in_folder(dirlist_test, path_test)\n",
    "\n",
    "\n",
    "print('There are '+ str(count_train) +' training images')\n",
    "print('There are '+ str(count_val) +' testing images')\n",
    "\n",
    "nb_img_train = count_train\n",
    "nb_img_val = count_val\n",
    "\n",
    "stop = time.time()\n",
    "print(\"Execution time = \" + str(int(((stop-start)-(stop-start)%60)/60)) +\" min \"+str((stop-start)%60)+\" sec\")"
   ]
  },
  {
   "cell_type": "markdown",
   "metadata": {},
   "source": [
    "## TEST IMAGE TEST"
   ]
  },
  {
   "cell_type": "code",
   "execution_count": 12,
   "metadata": {},
   "outputs": [
    {
     "name": "stdout",
     "output_type": "stream",
     "text": [
      "8,388,000,000\n",
      "1,980,000,000\n"
     ]
    }
   ],
   "source": [
    "#SIZE BEFORE\n",
    "size = np.array(images_train).nbytes\n",
    "print(format (size, ',d'))\n",
    "\n",
    "size_val = np.array(images_val).nbytes\n",
    "print(format (size_val, ',d'))"
   ]
  },
  {
   "cell_type": "code",
   "execution_count": null,
   "metadata": {},
   "outputs": [],
   "source": [
    "#reshpae\n",
    "train_img = np.array(images_train)\n",
    "val_img = np.array(images_val)\n",
    "\n",
    "#to float\n",
    "train_imgs = train_img.astype(np.float16) / 255\n",
    "val_imgs = val_img.astype(np.float16) / 255\n",
    "\n",
    "print(\"done\")"
   ]
  },
  {
   "cell_type": "code",
   "execution_count": null,
   "metadata": {},
   "outputs": [],
   "source": [
    "#SIZE AFTER\n",
    "size_tr = np.array(train_imgs).nbytes\n",
    "print(format (size_tr, ',d'))\n",
    "\n",
    "size_vl = np.array(val_imgs).nbytes\n",
    "print(format (size_vl, ',d'))"
   ]
  },
  {
   "cell_type": "code",
   "execution_count": null,
   "metadata": {},
   "outputs": [],
   "source": [
    "# saving data train\n",
    "np.save('test-npy/float_img_tr',train_imgs)\n",
    "np.save('test-npy/float_lab_tr',labels_train)\n",
    "\n",
    "# saving data val\n",
    "np.save('test-npy/float_img_val',val_imgs)\n",
    "np.save('test-npy/float_lab_val',labels_val)"
   ]
  },
  {
   "cell_type": "code",
   "execution_count": 7,
   "metadata": {},
   "outputs": [
    {
     "data": {
      "text/plain": [
       "<matplotlib.image.AxesImage at 0x7f00acf2b080>"
      ]
     },
     "execution_count": 7,
     "metadata": {},
     "output_type": "execute_result"
    },
    {
     "data": {
      "image/png": "[encoded data removed]",
      "text/plain": [
       "<matplotlib.figure.Figure at 0x7f00ad8551d0>"
      ]
     },
     "metadata": {},
     "output_type": "display_data"
    }
   ],
   "source": [
    "plt.imshow(val_imgs[1].astype('float32'))"
   ]
  },
  {
   "cell_type": "code",
   "execution_count": 8,
   "metadata": {},
   "outputs": [],
   "source": [
    "train_images = train_imgs\n",
    "train_labels = labels_train\n",
    "\n",
    "val_images = val_imgs\n",
    "val_labels = labels_val"
   ]
  },
  {
   "cell_type": "markdown",
   "metadata": {},
   "source": [
    "#### Load NPY data"
   ]
  },
  {
   "cell_type": "code",
   "execution_count": 101,
   "metadata": {},
   "outputs": [],
   "source": [
    "#LOAD TRAIN\n",
    "#load images\n",
    "train_images = np.load('test-npy/float_img_tr.npy')\n",
    "\n",
    "#load labels\n",
    "train_labels = np.load('test-npy/float_lab_tr.npy')"
   ]
  },
  {
   "cell_type": "code",
   "execution_count": 102,
   "metadata": {},
   "outputs": [],
   "source": [
    "#LOAD VALIDATION\n",
    "#load images\n",
    "val_images = np.load('test-npy/float_img_val.npy')\n",
    "\n",
    "#load labels\n",
    "val_labels = np.load('test-npy/float_lab_val.npy')"
   ]
  },
  {
   "cell_type": "code",
   "execution_count": 103,
   "metadata": {},
   "outputs": [
    {
     "name": "stdout",
     "output_type": "stream",
     "text": [
      "bed\n"
     ]
    },
    {
     "data": {
      "text/plain": [
       "<matplotlib.image.AxesImage at 0x3ed3914828>"
      ]
     },
     "execution_count": 103,
     "metadata": {},
     "output_type": "execute_result"
    },
    {
     "data": {
      "image/png": "[encoded data removed]",
      "text/plain": [
       "<matplotlib.figure.Figure at 0x3ed3862e48>"
      ]
     },
     "metadata": {},
     "output_type": "display_data"
    }
   ],
   "source": [
    "index = 200\n",
    "print(train_labels[index])\n",
    "plt.imshow(train_images[index].astype(np.float32))"
   ]
  },
  {
   "cell_type": "code",
   "execution_count": 9,
   "metadata": {},
   "outputs": [],
   "source": [
    "nb_img_train = len(train_images)\n",
    "nb_img_val = len(val_images)"
   ]
  },
  {
   "cell_type": "code",
   "execution_count": 10,
   "metadata": {},
   "outputs": [],
   "source": [
    "train_img = train_images.reshape([-1,img_size,img_size,3])\n",
    "val_img = val_images.reshape([-1,img_size,img_size,3])"
   ]
  },
  {
   "cell_type": "markdown",
   "metadata": {},
   "source": [
    "#### One Hot Encoding of Labels"
   ]
  },
  {
   "cell_type": "code",
   "execution_count": 11,
   "metadata": {},
   "outputs": [],
   "source": [
    "#LABEL ONE HOT ENCODING\n",
    "#Training\n",
    "k=0\n",
    "for i in range(len(dirlist_val)):\n",
    "    for j in range(len(train_labels)):\n",
    "        if(train_labels[j]==dirlist_val[i]):\n",
    "            train_labels[j]=k\n",
    "    k=k+1\n",
    "    \n",
    "#Validation\n",
    "g=0\n",
    "for l in range(len(dirlist_val)):\n",
    "    for h in range(len(val_labels)):\n",
    "        if(val_labels[h]==dirlist_val[l]):\n",
    "            val_labels[h]=g\n",
    "    g=g+1"
   ]
  },
  {
   "cell_type": "code",
   "execution_count": 12,
   "metadata": {},
   "outputs": [],
   "source": [
    "train_lab= to_categorical(train_labels)\n",
    "val_lab = to_categorical(val_labels)"
   ]
  },
  {
   "cell_type": "code",
   "execution_count": 30,
   "metadata": {},
   "outputs": [
    {
     "data": {
      "text/plain": [
       "(16500, 14)"
      ]
     },
     "execution_count": 30,
     "metadata": {},
     "output_type": "execute_result"
    }
   ],
   "source": [
    "val_lab.shape"
   ]
  },
  {
   "cell_type": "code",
   "execution_count": 14,
   "metadata": {},
   "outputs": [],
   "source": [
    "def Plot_accuracy(train_acc, val_acc, Title):\n",
    "    x = [i for i in range(0, len(train_acc))]\n",
    "    y= train_acc\n",
    "    plt.plot(x,y)\n",
    "    \n",
    "    x = [i for i in range(0, len(val_acc))]\n",
    "    y= val_acc\n",
    "    plt.plot(x,y)\n",
    "    \n",
    "    plt.ylabel('Accuracy')\n",
    "    plt.xlabel('Steps')\n",
    "    plt.xticks(x)\n",
    "    plt.ylim(ymax=1)\n",
    "    plt.ylim(ymin=0)\n",
    "    plt.xlim(xmin=0)\n",
    "    plt.grid(True)\n",
    "    plt.title(Title)\n",
    "    plt.show()\n",
    "    \n",
    "def Plot_Loss(train_loss, val_loss, Title):\n",
    "    x = [i for i in range(0, len(val_loss))]\n",
    "    y= train_loss\n",
    "    plt.plot(x,y)\n",
    "\n",
    "    x = [i for i in range(0, len(val_loss))]\n",
    "    y= val_loss\n",
    "    plt.plot(x,y)\n",
    "    \n",
    "    plt.ylabel('Loss')\n",
    "    plt.xlabel('Steps')\n",
    "    plt.xticks(x)\n",
    "    plt.ylim(ymax=2)\n",
    "    plt.ylim(ymin=0)\n",
    "    plt.xlim(xmin=0)\n",
    "    plt.grid(True)\n",
    "    plt.title(Title)\n",
    "    plt.show()"
   ]
  },
  {
   "cell_type": "markdown",
   "metadata": {},
   "source": [
    "--------------------------------------------------------------------------------------------------------------------------------"
   ]
  },
  {
   "cell_type": "markdown",
   "metadata": {},
   "source": [
    "## VGG"
   ]
  },
  {
   "cell_type": "markdown",
   "metadata": {},
   "source": [
    "https://www.learnopencv.com/keras-tutorial-transfer-learning-using-pre-trained-models/"
   ]
  },
  {
   "cell_type": "markdown",
   "metadata": {},
   "source": [
    "    Import VGG pretrained network"
   ]
  },
  {
   "cell_type": "code",
   "execution_count": 15,
   "metadata": {},
   "outputs": [],
   "source": [
    "from keras import applications"
   ]
  },
  {
   "cell_type": "code",
   "execution_count": 16,
   "metadata": {},
   "outputs": [],
   "source": [
    "conv_base = applications.VGG16(weights='imagenet', include_top=False, input_shape=(200, 200,3))"
   ]
  },
  {
   "cell_type": "code",
   "execution_count": 17,
   "metadata": {},
   "outputs": [
    {
     "name": "stdout",
     "output_type": "stream",
     "text": [
      "_________________________________________________________________\n",
      "Layer (type)                 Output Shape              Param #   \n",
      "=================================================================\n",
      "input_1 (InputLayer)         (None, 200, 200, 3)       0         \n",
      "_________________________________________________________________\n",
      "block1_conv1 (Conv2D)        (None, 200, 200, 64)      1792      \n",
      "_________________________________________________________________\n",
      "block1_conv2 (Conv2D)        (None, 200, 200, 64)      36928     \n",
      "_________________________________________________________________\n",
      "block1_pool (MaxPooling2D)   (None, 100, 100, 64)      0         \n",
      "_________________________________________________________________\n",
      "block2_conv1 (Conv2D)        (None, 100, 100, 128)     73856     \n",
      "_________________________________________________________________\n",
      "block2_conv2 (Conv2D)        (None, 100, 100, 128)     147584    \n",
      "_________________________________________________________________\n",
      "block2_pool (MaxPooling2D)   (None, 50, 50, 128)       0         \n",
      "_________________________________________________________________\n",
      "block3_conv1 (Conv2D)        (None, 50, 50, 256)       295168    \n",
      "_________________________________________________________________\n",
      "block3_conv2 (Conv2D)        (None, 50, 50, 256)       590080    \n",
      "_________________________________________________________________\n",
      "block3_conv3 (Conv2D)        (None, 50, 50, 256)       590080    \n",
      "_________________________________________________________________\n",
      "block3_pool (MaxPooling2D)   (None, 25, 25, 256)       0         \n",
      "_________________________________________________________________\n",
      "block4_conv1 (Conv2D)        (None, 25, 25, 512)       1180160   \n",
      "_________________________________________________________________\n",
      "block4_conv2 (Conv2D)        (None, 25, 25, 512)       2359808   \n",
      "_________________________________________________________________\n",
      "block4_conv3 (Conv2D)        (None, 25, 25, 512)       2359808   \n",
      "_________________________________________________________________\n",
      "block4_pool (MaxPooling2D)   (None, 12, 12, 512)       0         \n",
      "_________________________________________________________________\n",
      "block5_conv1 (Conv2D)        (None, 12, 12, 512)       2359808   \n",
      "_________________________________________________________________\n",
      "block5_conv2 (Conv2D)        (None, 12, 12, 512)       2359808   \n",
      "_________________________________________________________________\n",
      "block5_conv3 (Conv2D)        (None, 12, 12, 512)       2359808   \n",
      "_________________________________________________________________\n",
      "block5_pool (MaxPooling2D)   (None, 6, 6, 512)         0         \n",
      "=================================================================\n",
      "Total params: 14,714,688\n",
      "Trainable params: 14,714,688\n",
      "Non-trainable params: 0\n",
      "_________________________________________________________________\n"
     ]
    }
   ],
   "source": [
    "conv_base.summary()"
   ]
  },
  {
   "cell_type": "markdown",
   "metadata": {},
   "source": [
    "    Preprocess dataset with VGG model"
   ]
  },
  {
   "cell_type": "code",
   "execution_count": 20,
   "metadata": {},
   "outputs": [
    {
     "name": "stdout",
     "output_type": "stream",
     "text": [
      "69900/69900 [==============================] - 649s 9ms/step\n",
      "Execution time = 10 min 48.708330392837524 sec\n"
     ]
    }
   ],
   "source": [
    "#gets feature maps for dataset based on inital VGG model\n",
    "#    >>from training set to feature map\n",
    "start = time.time()\n",
    "\n",
    "train_features = conv_base.predict(train_img, verbose=1)\n",
    "#train_features = np.reshape(train_features, (len(train_img), 3 * 3 * 512))\n",
    "\n",
    "stop = time.time()\n",
    "print(\"Execution time = \" + str(int(((stop-start)-(stop-start)%60)/60)) +\" min \"+str((stop-start)%60)+\" sec\")"
   ]
  },
  {
   "cell_type": "code",
   "execution_count": null,
   "metadata": {},
   "outputs": [],
   "source": [
    "#SAVE IMAGES, LABELS AND FEATURE MAP\n",
    "#np.save('/out/train_imgs',train_img)\n",
    "#np.save('/out/train_labs',train_lab)\n",
    "np.save('/output/train_imgs_feature_map',train_features)\n",
    "print(\"done\")"
   ]
  },
  {
   "cell_type": "code",
   "execution_count": null,
   "metadata": {},
   "outputs": [
    {
     "name": "stdout",
     "output_type": "stream",
     "text": [
      "done\n"
     ]
    }
   ],
   "source": [
    "np.save('/output/train_imgs',train_img)\n",
    "np.save('/output/train_labs',train_lab)\n",
    "print(\"done\")"
   ]
  },
  {
   "cell_type": "code",
   "execution_count": 23,
   "metadata": {},
   "outputs": [],
   "source": [
    "#reshape feature maps to match output of VGG model with input of additional layers\n",
    "train_features_reshaped = np.reshape(train_features, (len(train_img), 6 * 6 * 512))"
   ]
  },
  {
   "cell_type": "code",
   "execution_count": 24,
   "metadata": {},
   "outputs": [
    {
     "name": "stdout",
     "output_type": "stream",
     "text": [
      "16500/16500 [==============================] - 160s 10ms/step\n",
      "Execution time = 2 min 40.35403823852539 sec\n"
     ]
    }
   ],
   "source": [
    "#gets feature maps for dataset based on inital VGG model\n",
    "#    >>from training set to feature map\n",
    "start = time.time()\n",
    "\n",
    "val_features = conv_base.predict(val_img, verbose=1)\n",
    "#train_features = np.reshape(train_features, (len(train_img), 3 * 3 * 512))\n",
    "\n",
    "stop = time.time()\n",
    "print(\"Execution time = \" + str(int(((stop-start)-(stop-start)%60)/60)) +\" min \"+str((stop-start)%60)+\" sec\")"
   ]
  },
  {
   "cell_type": "code",
   "execution_count": 25,
   "metadata": {},
   "outputs": [],
   "source": [
    "val_features = np.reshape(val_features, (len(val_img), 6 * 6 * 512))"
   ]
  },
  {
   "cell_type": "markdown",
   "metadata": {},
   "source": [
    "    Loading data from Output folder"
   ]
  },
  {
   "cell_type": "code",
   "execution_count": null,
   "metadata": {},
   "outputs": [],
   "source": [
    "tr_ig = np.load(\"/output/train_imgs.npy\")\n",
    "tr_lb = np.load(\"/output/train_labs.npy\")"
   ]
  },
  {
   "cell_type": "code",
   "execution_count": 26,
   "metadata": {},
   "outputs": [],
   "source": [
    "tr_features = np.load(\"/output/train_imgs_feature_map.npy\")"
   ]
  },
  {
   "cell_type": "markdown",
   "metadata": {},
   "source": [
    "    Additional network"
   ]
  },
  {
   "cell_type": "code",
   "execution_count": 31,
   "metadata": {},
   "outputs": [],
   "source": [
    "model = models.Sequential()\n",
    "model.add(layers.Dense(600, activation='relu', input_dim=6 * 6 * 512))\n",
    "model.add(layers.Dropout(0.5))\n",
    "model.add(layers.Dense(600, activation='relu'))\n",
    "model.add(layers.Dropout(0.5))\n",
    "model.add(layers.Dense(300, activation='relu'))\n",
    "model.add(layers.Dropout(0.5))\n",
    "\n",
    "model.add(layers.Dense(len(dirlist_val), activation='softmax'))"
   ]
  },
  {
   "cell_type": "code",
   "execution_count": 32,
   "metadata": {},
   "outputs": [
    {
     "name": "stdout",
     "output_type": "stream",
     "text": [
      "Train on 69900 samples, validate on 16500 samples\n",
      "Epoch 1/90\n",
      "69900/69900 [==============================] - 14s 196us/step - loss: 1.4914 - acc: 0.5146 - val_loss: 0.8061 - val_acc: 0.7376\n",
      "Epoch 2/90\n",
      "69900/69900 [==============================] - 12s 170us/step - loss: 0.7971 - acc: 0.7503 - val_loss: 0.5601 - val_acc: 0.8267\n",
      "Epoch 3/90\n",
      "69900/69900 [==============================] - 12s 171us/step - loss: 0.6120 - acc: 0.8123 - val_loss: 0.5306 - val_acc: 0.8366\n",
      "Epoch 4/90\n",
      "69900/69900 [==============================] - 12s 170us/step - loss: 0.5131 - acc: 0.8407 - val_loss: 0.5276 - val_acc: 0.8404\n",
      "Epoch 5/90\n",
      "69900/69900 [==============================] - 12s 170us/step - loss: 0.4491 - acc: 0.8621 - val_loss: 0.5547 - val_acc: 0.8390\n",
      "Epoch 6/90\n",
      "69900/69900 [==============================] - 12s 171us/step - loss: 0.4008 - acc: 0.8768 - val_loss: 0.5866 - val_acc: 0.8326\n",
      "Epoch 7/90\n",
      "69900/69900 [==============================] - 12s 170us/step - loss: 0.3656 - acc: 0.8873 - val_loss: 0.4471 - val_acc: 0.8770\n",
      "Epoch 8/90\n",
      "69900/69900 [==============================] - 12s 171us/step - loss: 0.3341 - acc: 0.8971 - val_loss: 0.5127 - val_acc: 0.8601\n",
      "Epoch 9/90\n",
      "69900/69900 [==============================] - 12s 170us/step - loss: 0.3093 - acc: 0.9044 - val_loss: 0.4992 - val_acc: 0.8679\n",
      "Epoch 10/90\n",
      "69900/69900 [==============================] - 12s 172us/step - loss: 0.2920 - acc: 0.9098 - val_loss: 0.4779 - val_acc: 0.8717\n",
      "Epoch 11/90\n",
      "69900/69900 [==============================] - 12s 172us/step - loss: 0.2709 - acc: 0.9165 - val_loss: 0.5071 - val_acc: 0.8750\n",
      "Epoch 12/90\n",
      "69900/69900 [==============================] - 12s 170us/step - loss: 0.2540 - acc: 0.9221 - val_loss: 0.5297 - val_acc: 0.8652\n",
      "Epoch 13/90\n",
      "69900/69900 [==============================] - 12s 171us/step - loss: 0.2430 - acc: 0.9256 - val_loss: 0.5055 - val_acc: 0.8767\n",
      "Epoch 14/90\n",
      "69900/69900 [==============================] - 12s 171us/step - loss: 0.2282 - acc: 0.9292 - val_loss: 0.4993 - val_acc: 0.8819\n",
      "Epoch 15/90\n",
      "69900/69900 [==============================] - 12s 171us/step - loss: 0.2203 - acc: 0.9329 - val_loss: 0.5205 - val_acc: 0.8785\n",
      "Epoch 16/90\n",
      "69900/69900 [==============================] - 12s 173us/step - loss: 0.2133 - acc: 0.9339 - val_loss: 0.5687 - val_acc: 0.8685\n",
      "Epoch 17/90\n",
      "69900/69900 [==============================] - 12s 171us/step - loss: 0.2015 - acc: 0.9376 - val_loss: 0.4763 - val_acc: 0.8896\n",
      "Epoch 18/90\n",
      "69900/69900 [==============================] - 12s 171us/step - loss: 0.1957 - acc: 0.9404 - val_loss: 0.5528 - val_acc: 0.8750\n",
      "Epoch 19/90\n",
      "69900/69900 [==============================] - 12s 171us/step - loss: 0.1920 - acc: 0.9420 - val_loss: 0.5377 - val_acc: 0.8790\n",
      "Epoch 20/90\n",
      "69900/69900 [==============================] - 12s 170us/step - loss: 0.1798 - acc: 0.9452 - val_loss: 0.5791 - val_acc: 0.8754\n",
      "Epoch 21/90\n",
      "69900/69900 [==============================] - 12s 171us/step - loss: 0.1775 - acc: 0.9454 - val_loss: 0.6298 - val_acc: 0.8604\n",
      "Epoch 22/90\n",
      "69900/69900 [==============================] - 12s 171us/step - loss: 0.1693 - acc: 0.9489 - val_loss: 0.5368 - val_acc: 0.8886\n",
      "Epoch 23/90\n",
      "69900/69900 [==============================] - 12s 170us/step - loss: 0.1649 - acc: 0.9499 - val_loss: 0.5913 - val_acc: 0.8813\n",
      "Epoch 24/90\n",
      "69900/69900 [==============================] - 12s 171us/step - loss: 0.1594 - acc: 0.9510 - val_loss: 0.6329 - val_acc: 0.8668\n",
      "Epoch 25/90\n",
      "69900/69900 [==============================] - 12s 170us/step - loss: 0.1557 - acc: 0.9524 - val_loss: 0.5807 - val_acc: 0.8825\n",
      "Epoch 26/90\n",
      "69900/69900 [==============================] - 12s 171us/step - loss: 0.1525 - acc: 0.9538 - val_loss: 0.6074 - val_acc: 0.8841\n",
      "Epoch 27/90\n",
      "69900/69900 [==============================] - 12s 171us/step - loss: 0.1490 - acc: 0.9555 - val_loss: 0.6115 - val_acc: 0.8747\n",
      "Epoch 28/90\n",
      "69900/69900 [==============================] - 12s 170us/step - loss: 0.1453 - acc: 0.9571 - val_loss: 0.6067 - val_acc: 0.8849\n",
      "Epoch 29/90\n",
      "69900/69900 [==============================] - 12s 171us/step - loss: 0.1429 - acc: 0.9570 - val_loss: 0.6707 - val_acc: 0.8738\n",
      "Epoch 30/90\n",
      "69900/69900 [==============================] - 12s 171us/step - loss: 0.1419 - acc: 0.9582 - val_loss: 0.6531 - val_acc: 0.8805\n",
      "Epoch 31/90\n",
      "69900/69900 [==============================] - 12s 171us/step - loss: 0.1353 - acc: 0.9599 - val_loss: 0.6153 - val_acc: 0.8850\n",
      "Epoch 32/90\n",
      "69900/69900 [==============================] - 12s 171us/step - loss: 0.1354 - acc: 0.9598 - val_loss: 0.6186 - val_acc: 0.8816\n",
      "Epoch 33/90\n",
      "69900/69900 [==============================] - 12s 171us/step - loss: 0.1333 - acc: 0.9597 - val_loss: 0.6940 - val_acc: 0.8705\n",
      "Epoch 34/90\n",
      "69900/69900 [==============================] - 12s 172us/step - loss: 0.1297 - acc: 0.9610 - val_loss: 0.6430 - val_acc: 0.8835\n",
      "Epoch 35/90\n",
      "69900/69900 [==============================] - 12s 171us/step - loss: 0.1276 - acc: 0.9622 - val_loss: 0.6619 - val_acc: 0.8824\n",
      "Epoch 36/90\n",
      "69900/69900 [==============================] - 12s 173us/step - loss: 0.1264 - acc: 0.9631 - val_loss: 0.6854 - val_acc: 0.8750\n",
      "Epoch 37/90\n",
      "69900/69900 [==============================] - 12s 172us/step - loss: 0.1232 - acc: 0.9635 - val_loss: 0.6053 - val_acc: 0.8899\n",
      "Epoch 38/90\n",
      "69900/69900 [==============================] - 12s 172us/step - loss: 0.1208 - acc: 0.9647 - val_loss: 0.6652 - val_acc: 0.8899\n",
      "Epoch 39/90\n",
      "69900/69900 [==============================] - 12s 172us/step - loss: 0.1229 - acc: 0.9646 - val_loss: 0.7065 - val_acc: 0.8782\n",
      "Epoch 40/90\n",
      "69900/69900 [==============================] - 12s 172us/step - loss: 0.1222 - acc: 0.9644 - val_loss: 0.6700 - val_acc: 0.8835\n",
      "Epoch 41/90\n",
      "69900/69900 [==============================] - 12s 174us/step - loss: 0.1144 - acc: 0.9655 - val_loss: 0.6726 - val_acc: 0.8833\n",
      "Epoch 42/90\n",
      "69900/69900 [==============================] - 12s 173us/step - loss: 0.1193 - acc: 0.9661 - val_loss: 0.6930 - val_acc: 0.8857\n",
      "Epoch 43/90\n",
      "69900/69900 [==============================] - 12s 173us/step - loss: 0.1151 - acc: 0.9662 - val_loss: 0.7461 - val_acc: 0.8790\n",
      "Epoch 44/90\n",
      "69900/69900 [==============================] - 12s 172us/step - loss: 0.1156 - acc: 0.9668 - val_loss: 0.7114 - val_acc: 0.8817\n",
      "Epoch 45/90\n",
      "69900/69900 [==============================] - 12s 172us/step - loss: 0.1133 - acc: 0.9676 - val_loss: 0.7020 - val_acc: 0.8827\n",
      "Epoch 46/90\n",
      "69900/69900 [==============================] - 12s 173us/step - loss: 0.1153 - acc: 0.9668 - val_loss: 0.7503 - val_acc: 0.8768\n",
      "Epoch 47/90\n",
      "69900/69900 [==============================] - 12s 172us/step - loss: 0.1137 - acc: 0.9670 - val_loss: 0.7027 - val_acc: 0.8865\n",
      "Epoch 48/90\n",
      "69900/69900 [==============================] - 12s 172us/step - loss: 0.1158 - acc: 0.9668 - val_loss: 0.7472 - val_acc: 0.8788\n",
      "Epoch 49/90\n",
      "69900/69900 [==============================] - 12s 172us/step - loss: 0.1125 - acc: 0.9680 - val_loss: 0.7519 - val_acc: 0.8793\n",
      "Epoch 50/90\n",
      "69900/69900 [==============================] - 12s 173us/step - loss: 0.1092 - acc: 0.9688 - val_loss: 0.7574 - val_acc: 0.8778\n",
      "Epoch 51/90\n",
      "69900/69900 [==============================] - 12s 173us/step - loss: 0.1057 - acc: 0.9700 - val_loss: 0.7469 - val_acc: 0.8830\n",
      "Epoch 52/90\n",
      "69900/69900 [==============================] - 12s 172us/step - loss: 0.1087 - acc: 0.9699 - val_loss: 0.8248 - val_acc: 0.8692\n",
      "Epoch 53/90\n",
      "69900/69900 [==============================] - 12s 172us/step - loss: 0.1061 - acc: 0.9706 - val_loss: 0.7295 - val_acc: 0.8863\n",
      "Epoch 54/90\n",
      "69900/69900 [==============================] - 12s 172us/step - loss: 0.1092 - acc: 0.9696 - val_loss: 0.7986 - val_acc: 0.8802\n",
      "Epoch 55/90\n",
      "69900/69900 [==============================] - 12s 172us/step - loss: 0.1051 - acc: 0.9703 - val_loss: 0.7854 - val_acc: 0.8799\n",
      "Epoch 56/90\n",
      "69900/69900 [==============================] - 12s 173us/step - loss: 0.1056 - acc: 0.9711 - val_loss: 0.7466 - val_acc: 0.8848\n",
      "Epoch 57/90\n",
      "69900/69900 [==============================] - 12s 172us/step - loss: 0.1062 - acc: 0.9700 - val_loss: 0.7042 - val_acc: 0.8921\n",
      "Epoch 58/90\n",
      "69900/69900 [==============================] - 12s 172us/step - loss: 0.1088 - acc: 0.9705 - val_loss: 0.7184 - val_acc: 0.8876\n",
      "Epoch 59/90\n",
      "69900/69900 [==============================] - 12s 172us/step - loss: 0.1023 - acc: 0.9722 - val_loss: 0.7228 - val_acc: 0.8937\n",
      "Epoch 60/90\n",
      "69900/69900 [==============================] - 12s 173us/step - loss: 0.1020 - acc: 0.9731 - val_loss: 0.7925 - val_acc: 0.8828\n",
      "Epoch 61/90\n",
      "69900/69900 [==============================] - 12s 174us/step - loss: 0.1048 - acc: 0.9718 - val_loss: 0.7865 - val_acc: 0.8865\n",
      "Epoch 62/90\n",
      "69900/69900 [==============================] - 12s 173us/step - loss: 0.1018 - acc: 0.9724 - val_loss: 0.7907 - val_acc: 0.8825\n",
      "Epoch 63/90\n",
      "69900/69900 [==============================] - 12s 173us/step - loss: 0.1008 - acc: 0.9729 - val_loss: 0.7891 - val_acc: 0.8830\n",
      "Epoch 64/90\n",
      "69900/69900 [==============================] - 12s 173us/step - loss: 0.1052 - acc: 0.9727 - val_loss: 0.7755 - val_acc: 0.8898\n",
      "Epoch 65/90\n",
      "69900/69900 [==============================] - 12s 172us/step - loss: 0.1015 - acc: 0.9734 - val_loss: 0.7536 - val_acc: 0.8907\n",
      "Epoch 66/90\n",
      "69900/69900 [==============================] - 12s 174us/step - loss: 0.0996 - acc: 0.9739 - val_loss: 0.7736 - val_acc: 0.8875\n",
      "Epoch 67/90\n",
      "69900/69900 [==============================] - 12s 173us/step - loss: 0.1009 - acc: 0.9736 - val_loss: 0.8245 - val_acc: 0.8755\n",
      "Epoch 68/90\n",
      "69900/69900 [==============================] - 12s 173us/step - loss: 0.1018 - acc: 0.9735 - val_loss: 0.7854 - val_acc: 0.8874\n",
      "Epoch 69/90\n",
      "69900/69900 [==============================] - 12s 172us/step - loss: 0.1018 - acc: 0.9731 - val_loss: 0.8309 - val_acc: 0.8845\n",
      "Epoch 70/90\n",
      "69900/69900 [==============================] - 12s 173us/step - loss: 0.1018 - acc: 0.9727 - val_loss: 0.8506 - val_acc: 0.8804\n",
      "Epoch 71/90\n",
      "69900/69900 [==============================] - 12s 174us/step - loss: 0.0968 - acc: 0.9743 - val_loss: 0.8048 - val_acc: 0.8839\n",
      "Epoch 72/90\n",
      "69900/69900 [==============================] - 12s 172us/step - loss: 0.0998 - acc: 0.9739 - val_loss: 0.8124 - val_acc: 0.8819\n",
      "Epoch 73/90\n",
      "69900/69900 [==============================] - 12s 172us/step - loss: 0.0990 - acc: 0.9738 - val_loss: 0.7866 - val_acc: 0.8880\n",
      "Epoch 74/90\n",
      "69900/69900 [==============================] - 12s 172us/step - loss: 0.1010 - acc: 0.9741 - val_loss: 0.8278 - val_acc: 0.8802\n",
      "Epoch 75/90\n",
      "69900/69900 [==============================] - 12s 172us/step - loss: 0.0978 - acc: 0.9741 - val_loss: 0.9049 - val_acc: 0.8684\n",
      "Epoch 76/90\n",
      "69900/69900 [==============================] - 12s 174us/step - loss: 0.1014 - acc: 0.9735 - val_loss: 0.8338 - val_acc: 0.8769\n",
      "Epoch 77/90\n",
      "69900/69900 [==============================] - 12s 172us/step - loss: 0.1002 - acc: 0.9745 - val_loss: 0.8725 - val_acc: 0.8744\n",
      "Epoch 78/90\n",
      "69900/69900 [==============================] - 12s 172us/step - loss: 0.0994 - acc: 0.9744 - val_loss: 0.7660 - val_acc: 0.8869\n",
      "Epoch 79/90\n",
      "69900/69900 [==============================] - 12s 175us/step - loss: 0.0989 - acc: 0.9753 - val_loss: 0.8539 - val_acc: 0.8823\n",
      "Epoch 80/90\n",
      "69900/69900 [==============================] - 12s 172us/step - loss: 0.1006 - acc: 0.9738 - val_loss: 0.8306 - val_acc: 0.8805\n",
      "Epoch 81/90\n",
      "69900/69900 [==============================] - 12s 173us/step - loss: 0.0950 - acc: 0.9753 - val_loss: 0.8201 - val_acc: 0.8820\n",
      "Epoch 82/90\n",
      "69900/69900 [==============================] - 12s 172us/step - loss: 0.0988 - acc: 0.9747 - val_loss: 0.8728 - val_acc: 0.8785\n",
      "Epoch 83/90\n",
      "69900/69900 [==============================] - 12s 172us/step - loss: 0.0957 - acc: 0.9754 - val_loss: 0.8809 - val_acc: 0.8748\n",
      "Epoch 84/90\n",
      "69900/69900 [==============================] - 12s 172us/step - loss: 0.0979 - acc: 0.9752 - val_loss: 0.7969 - val_acc: 0.8845\n",
      "Epoch 85/90\n",
      "69900/69900 [==============================] - 12s 172us/step - loss: 0.0981 - acc: 0.9752 - val_loss: 0.7933 - val_acc: 0.8916\n",
      "Epoch 86/90\n",
      "69900/69900 [==============================] - 12s 172us/step - loss: 0.0965 - acc: 0.9759 - val_loss: 0.8440 - val_acc: 0.8822\n",
      "Epoch 87/90\n",
      "69900/69900 [==============================] - 12s 172us/step - loss: 0.0939 - acc: 0.9760 - val_loss: 0.8050 - val_acc: 0.8870\n",
      "Epoch 88/90\n",
      "69900/69900 [==============================] - 12s 173us/step - loss: 0.0980 - acc: 0.9757 - val_loss: 0.8135 - val_acc: 0.8863\n",
      "Epoch 89/90\n",
      "69900/69900 [==============================] - 12s 172us/step - loss: 0.0961 - acc: 0.9759 - val_loss: 0.8822 - val_acc: 0.8811\n",
      "Epoch 90/90\n",
      "69900/69900 [==============================] - 12s 172us/step - loss: 0.0949 - acc: 0.9769 - val_loss: 0.8888 - val_acc: 0.8828\n"
     ]
    }
   ],
   "source": [
    "history= History()\n",
    "\n",
    "model.compile(optimizer=keras.optimizers.RMSprop(lr=2e-4),\n",
    "              loss='categorical_crossentropy',\n",
    "              metrics=['acc'])\n",
    " \n",
    "training = model.fit(train_features_reshaped,\n",
    "                    train_lab,\n",
    "                    epochs=30,\n",
    "                    batch_size=250,\n",
    "                    validation_data=(val_features,val_lab), callbacks=[history])"
   ]
  },
  {
   "cell_type": "code",
   "execution_count": 33,
   "metadata": {},
   "outputs": [
    {
     "data": {
      "image/png": "[encoded data removed]",
      "text/plain": [
       "<matplotlib.figure.Figure at 0x7f00aa0d5160>"
      ]
     },
     "metadata": {},
     "output_type": "display_data"
    },
    {
     "data": {
      "image/png": "[encoded data removed]",
      "text/plain": [
       "<matplotlib.figure.Figure at 0x7f00aa0d5128>"
      ]
     },
     "metadata": {},
     "output_type": "display_data"
    }
   ],
   "source": [
    "Plot_accuracy(history.history['acc'], history.history['val_acc'],\"Accuracy\")\n",
    "\n",
    "Plot_Loss(history.history['loss'],history.history['val_loss'], \"Loss\")"
   ]
  },
  {
   "cell_type": "markdown",
   "metadata": {},
   "source": [
    "    Test"
   ]
  },
  {
   "cell_type": "code",
   "execution_count": 34,
   "metadata": {},
   "outputs": [],
   "source": [
    "predictions = model.predict(val_features)\n",
    "\n",
    "#one hot encoding\n",
    "for i in range(len(predictions)):\n",
    "    length = len(predictions[i])\n",
    "    index = np.argmax(predictions[i])\n",
    "    predictions[i][index] = 1\n",
    "    for j in range(length):\n",
    "        if(j != index):\n",
    "            predictions[i][j] = 0"
   ]
  },
  {
   "cell_type": "code",
   "execution_count": 35,
   "metadata": {},
   "outputs": [
    {
     "name": "stdout",
     "output_type": "stream",
     "text": [
      "             precision    recall  f1-score   support\n",
      "\n",
      "       door       0.83      0.96      0.89       600\n",
      "      chair       0.93      0.88      0.90      1500\n",
      "  bookshelf       0.85      0.93      0.89      1500\n",
      "    bathtub       0.93      0.80      0.86      1500\n",
      "      bench       0.75      0.81      0.78       600\n",
      "      table       0.86      0.89      0.87      1500\n",
      "        bed       0.91      0.88      0.89      1500\n",
      "       sofa       0.84      0.89      0.86      1500\n",
      "       vase       0.93      0.86      0.89      1500\n",
      "      plant       0.97      0.97      0.97      1500\n",
      "       lamp       0.79      0.80      0.80       600\n",
      "       sink       0.75      0.79      0.77       600\n",
      "      stair       0.84      0.77      0.80       600\n",
      "     toilet       0.93      0.98      0.95      1500\n",
      "\n",
      "avg / total       0.89      0.88      0.88     16500\n",
      "\n"
     ]
    }
   ],
   "source": [
    "print(classification_report(val_lab, predictions, target_names = dirlist_val))"
   ]
  },
  {
   "cell_type": "markdown",
   "metadata": {},
   "source": [
    "    Predict for one image"
   ]
  },
  {
   "cell_type": "code",
   "execution_count": 96,
   "metadata": {},
   "outputs": [],
   "source": [
    "index = 5000\n",
    "predictions = model.predict(np.reshape(conv_base.predict(val_img[index].reshape([1,img_size,img_size,3])), (1, 6 * 6 * 512)))"
   ]
  },
  {
   "cell_type": "code",
   "execution_count": 97,
   "metadata": {},
   "outputs": [
    {
     "data": {
      "text/plain": [
       "array([[1.5116871e-24, 7.1451787e-16, 6.9319187e-18, 1.0000000e+00,\n",
       "        1.3790922e-13, 2.2439842e-10, 3.2565506e-10, 4.2690704e-09,\n",
       "        3.2812152e-14, 2.5622387e-27, 1.7149212e-16, 1.3400983e-09,\n",
       "        6.9564550e-16, 7.0758933e-11]], dtype=float32)"
      ]
     },
     "execution_count": 97,
     "metadata": {},
     "output_type": "execute_result"
    }
   ],
   "source": [
    "predictions"
   ]
  },
  {
   "cell_type": "code",
   "execution_count": 101,
   "metadata": {},
   "outputs": [
    {
     "name": "stdout",
     "output_type": "stream",
     "text": [
      "bathtub\n"
     ]
    },
    {
     "data": {
      "image/png": "[encoded data removed]",
      "text/plain": [
       "<matplotlib.figure.Figure at 0x7f003baa76d8>"
      ]
     },
     "metadata": {},
     "output_type": "display_data"
    }
   ],
   "source": [
    "plt.imshow(val_img[index].astype(np.float32))\n",
    "print(dirlist_val[np.argmax(predictions[0])])"
   ]
  },
  {
   "cell_type": "code",
   "execution_count": 99,
   "metadata": {},
   "outputs": [
    {
     "data": {
      "text/html": [
       "<div>\n",
       "<style>\n",
       "    .dataframe thead tr:only-child th {\n",
       "        text-align: right;\n",
       "    }\n",
       "\n",
       "    .dataframe thead th {\n",
       "        text-align: left;\n",
       "    }\n",
       "\n",
       "    .dataframe tbody tr th {\n",
       "        vertical-align: top;\n",
       "    }\n",
       "</style>\n",
       "<table border=\"1\" class=\"dataframe\">\n",
       "  <thead>\n",
       "    <tr style=\"text-align: right;\">\n",
       "      <th></th>\n",
       "      <th>Labels</th>\n",
       "      <th>Value</th>\n",
       "    </tr>\n",
       "  </thead>\n",
       "  <tbody>\n",
       "    <tr>\n",
       "      <th>0</th>\n",
       "      <td>door</td>\n",
       "      <td>1.511687e-24</td>\n",
       "    </tr>\n",
       "    <tr>\n",
       "      <th>1</th>\n",
       "      <td>chair</td>\n",
       "      <td>7.145179e-16</td>\n",
       "    </tr>\n",
       "    <tr>\n",
       "      <th>2</th>\n",
       "      <td>bookshelf</td>\n",
       "      <td>6.931919e-18</td>\n",
       "    </tr>\n",
       "    <tr>\n",
       "      <th>3</th>\n",
       "      <td>bathtub</td>\n",
       "      <td>1.000000e+00</td>\n",
       "    </tr>\n",
       "    <tr>\n",
       "      <th>4</th>\n",
       "      <td>bench</td>\n",
       "      <td>1.379092e-13</td>\n",
       "    </tr>\n",
       "    <tr>\n",
       "      <th>5</th>\n",
       "      <td>table</td>\n",
       "      <td>2.243984e-10</td>\n",
       "    </tr>\n",
       "    <tr>\n",
       "      <th>6</th>\n",
       "      <td>bed</td>\n",
       "      <td>3.256551e-10</td>\n",
       "    </tr>\n",
       "    <tr>\n",
       "      <th>7</th>\n",
       "      <td>sofa</td>\n",
       "      <td>4.269070e-09</td>\n",
       "    </tr>\n",
       "    <tr>\n",
       "      <th>8</th>\n",
       "      <td>vase</td>\n",
       "      <td>3.281215e-14</td>\n",
       "    </tr>\n",
       "    <tr>\n",
       "      <th>9</th>\n",
       "      <td>plant</td>\n",
       "      <td>2.562239e-27</td>\n",
       "    </tr>\n",
       "    <tr>\n",
       "      <th>10</th>\n",
       "      <td>lamp</td>\n",
       "      <td>1.714921e-16</td>\n",
       "    </tr>\n",
       "    <tr>\n",
       "      <th>11</th>\n",
       "      <td>sink</td>\n",
       "      <td>1.340098e-09</td>\n",
       "    </tr>\n",
       "    <tr>\n",
       "      <th>12</th>\n",
       "      <td>stair</td>\n",
       "      <td>6.956455e-16</td>\n",
       "    </tr>\n",
       "    <tr>\n",
       "      <th>13</th>\n",
       "      <td>toilet</td>\n",
       "      <td>7.075893e-11</td>\n",
       "    </tr>\n",
       "  </tbody>\n",
       "</table>\n",
       "</div>"
      ],
      "text/plain": [
       "       Labels         Value\n",
       "0        door  1.511687e-24\n",
       "1       chair  7.145179e-16\n",
       "2   bookshelf  6.931919e-18\n",
       "3     bathtub  1.000000e+00\n",
       "4       bench  1.379092e-13\n",
       "5       table  2.243984e-10\n",
       "6         bed  3.256551e-10\n",
       "7        sofa  4.269070e-09\n",
       "8        vase  3.281215e-14\n",
       "9       plant  2.562239e-27\n",
       "10       lamp  1.714921e-16\n",
       "11       sink  1.340098e-09\n",
       "12      stair  6.956455e-16\n",
       "13     toilet  7.075893e-11"
      ]
     },
     "execution_count": 99,
     "metadata": {},
     "output_type": "execute_result"
    }
   ],
   "source": [
    "import pandas as pd\n",
    "\n",
    "table = pd.DataFrame()\n",
    "\n",
    "table['Labels'] = dirlist_val\n",
    "table['Value'] =  predictions[0].astype(np.float32)\n",
    "table"
   ]
  },
  {
   "cell_type": "markdown",
   "metadata": {
    "collapsed": true
   },
   "source": [
    "    Save Model to Output folder"
   ]
  },
  {
   "cell_type": "code",
   "execution_count": 38,
   "metadata": {},
   "outputs": [],
   "source": [
    "# serialize model to JSON\n",
    "model_json = model.to_json()\n",
    "with open(\"/output/model.json\", \"w\") as json_file:\n",
    "    json_file.write(model_json)\n"
   ]
  },
  {
   "cell_type": "code",
   "execution_count": 40,
   "metadata": {},
   "outputs": [
    {
     "name": "stdout",
     "output_type": "stream",
     "text": [
      "Saved model to disk\n"
     ]
    }
   ],
   "source": [
    "# serialize weights to HDF5\n",
    "model.save_weights(\"/output/model.h5\")\n",
    "print(\"Saved model to disk\")"
   ]
  }
 ],
 "metadata": {
  "kernelspec": {
   "display_name": "Python 3",
   "language": "python",
   "name": "python3"
  },
  "language_info": {
   "codemirror_mode": {
    "name": "ipython",
    "version": 3
   },
   "file_extension": ".py",
   "mimetype": "text/x-python",
   "name": "python",
   "nbconvert_exporter": "python",
   "pygments_lexer": "ipython3",
   "version": "3.6.4"
  }
 },
 "nbformat": 4,
 "nbformat_minor": 2
}
